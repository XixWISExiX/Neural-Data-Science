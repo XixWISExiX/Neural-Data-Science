{
 "cells": [
  {
   "cell_type": "markdown",
   "metadata": {},
   "source": [
    "This file is associated with Lecture 17\n",
    "\n",
    "# Decoding Analysis using EEG Data\n",
    "\n",
    "## Loading Data and Packages"
   ]
  },
  {
   "cell_type": "code",
   "execution_count": 1,
   "metadata": {},
   "outputs": [
    {
     "name": "stdout",
     "output_type": "stream",
     "text": [
      "Extracting EDF parameters from /home/joshua/Desktop/MainFolder/OuClasses/2024 Fall/Neural-Data-Science/datasets/MNE-eegbci-data/files/eegmmidb/1.0.0/S001/S001R06.edf...\n",
      "EDF file detected\n",
      "Setting channel info structure...\n",
      "Creating raw.info structure...\n",
      "Reading 0 ... 19999  =      0.000 ...   124.994 secs...\n",
      "Extracting EDF parameters from /home/joshua/Desktop/MainFolder/OuClasses/2024 Fall/Neural-Data-Science/datasets/MNE-eegbci-data/files/eegmmidb/1.0.0/S001/S001R10.edf...\n",
      "EDF file detected\n",
      "Setting channel info structure...\n",
      "Creating raw.info structure...\n",
      "Reading 0 ... 19999  =      0.000 ...   124.994 secs...\n",
      "Extracting EDF parameters from /home/joshua/Desktop/MainFolder/OuClasses/2024 Fall/Neural-Data-Science/datasets/MNE-eegbci-data/files/eegmmidb/1.0.0/S001/S001R14.edf...\n",
      "EDF file detected\n",
      "Setting channel info structure...\n",
      "Creating raw.info structure...\n",
      "Reading 0 ... 19999  =      0.000 ...   124.994 secs...\n",
      "Used Annotations descriptions: ['T0', 'T1', 'T2']\n",
      "Not setting metadata\n",
      "90 matching events found\n",
      "No baseline correction applied\n",
      "0 projection items activated\n",
      "Using data from preloaded Raw for 90 events and 961 original time points ...\n",
      "3 bad epochs dropped\n"
     ]
    }
   ],
   "source": [
    "# Let's load some packages we need\n",
    "import mne\n",
    "import mne.viz\n",
    "from mne.datasets import eegbci\n",
    "from mne.io import concatenate_raws, read_raw_edf\n",
    "from mne.channels import make_standard_montage\n",
    "import numpy as np\n",
    "import scipy as sp\n",
    "from scipy import stats\n",
    "import matplotlib.pyplot as plt\n",
    "import copy\n",
    "#Load Dataset\n",
    "subject = 1 # use data from subject 1\n",
    "runs = [6, 10, 14] # use only hand and feet motor imagery runs\n",
    "#Get data and locate in to given path\n",
    "files = eegbci.load_data(subject, runs, '../datasets/')\n",
    "#Read raw data files where each file contains a run\n",
    "raws = [read_raw_edf(f, preload=True) for f in files]\n",
    "#Combine all loaded runs\n",
    "raw_obj = concatenate_raws(raws)\n",
    "raw_data = raw_obj._data\n",
    "#Set Standard Channel Locations\n",
    "eegbci.standardize(raw_obj) # set channel names\n",
    "montage = make_standard_montage('standard_1005')\n",
    "raw_obj.set_montage(montage)\n",
    "#Extract events from raw data\n",
    "events, event_ids = mne.events_from_annotations(raw_obj, event_id='auto')\n",
    "tmin, tmax = -1, 4 # define epochs around events (in s)\n",
    "#event_ids = dict(hands=2, feet=3) # map event IDs to tasks\n",
    "epochs = mne.Epochs(raw_obj, events, event_ids, tmin - 0.5, tmax + 0.5, baseline=None, preload=True)\n",
    "# Get sammpling frequency\n",
    "fs=raw_obj.info['sfreq']"
   ]
  },
  {
   "cell_type": "markdown",
   "metadata": {},
   "source": [
    "## Data Preparation"
   ]
  },
  {
   "cell_type": "code",
   "execution_count": 2,
   "metadata": {},
   "outputs": [
    {
     "name": "stdout",
     "output_type": "stream",
     "text": [
      "(87, 64, 961)\n",
      "(87, 3)\n",
      "[[  672     0     3]\n",
      " [ 1328     0     1]\n",
      " [ 2000     0     2]\n",
      " [ 2656     0     1]\n",
      " [ 3328     0     2]\n",
      " [ 3984     0     1]\n",
      " [ 4656     0     3]\n",
      " [ 5312     0     1]\n",
      " [ 5984     0     2]\n",
      " [ 6640     0     1]\n",
      " [ 7312     0     3]\n",
      " [ 7968     0     1]\n",
      " [ 8640     0     3]\n",
      " [ 9296     0     1]\n",
      " [ 9968     0     2]\n",
      " [10624     0     1]\n",
      " [11296     0     2]\n",
      " [11952     0     1]\n",
      " [12624     0     3]\n",
      " [13280     0     1]\n",
      " [13952     0     3]\n",
      " [14608     0     1]\n",
      " [15280     0     2]\n",
      " [15936     0     1]\n",
      " [16608     0     2]\n",
      " [17264     0     1]\n",
      " [17936     0     3]\n",
      " [18592     0     1]\n",
      " [19264     0     3]\n",
      " [20672     0     2]\n",
      " [21328     0     1]\n",
      " [22000     0     3]\n",
      " [22656     0     1]\n",
      " [23328     0     3]\n",
      " [23984     0     1]\n",
      " [24656     0     2]\n",
      " [25312     0     1]\n",
      " [25984     0     3]\n",
      " [26640     0     1]\n",
      " [27312     0     2]\n",
      " [27968     0     1]\n",
      " [28640     0     2]\n",
      " [29296     0     1]\n",
      " [29968     0     3]\n",
      " [30624     0     1]\n",
      " [31296     0     3]\n",
      " [31952     0     1]\n",
      " [32624     0     2]\n",
      " [33280     0     1]\n",
      " [33952     0     2]\n",
      " [34608     0     1]\n",
      " [35280     0     3]\n",
      " [35936     0     1]\n",
      " [36608     0     3]\n",
      " [37264     0     1]\n",
      " [37936     0     2]\n",
      " [38592     0     1]\n",
      " [39264     0     3]\n",
      " [40672     0     3]\n",
      " [41328     0     1]\n",
      " [42000     0     2]\n",
      " [42656     0     1]\n",
      " [43328     0     3]\n",
      " [43984     0     1]\n",
      " [44656     0     2]\n",
      " [45312     0     1]\n",
      " [45984     0     2]\n",
      " [46640     0     1]\n",
      " [47312     0     3]\n",
      " [47968     0     1]\n",
      " [48640     0     2]\n",
      " [49296     0     1]\n",
      " [49968     0     3]\n",
      " [50624     0     1]\n",
      " [51296     0     2]\n",
      " [51952     0     1]\n",
      " [52624     0     3]\n",
      " [53280     0     1]\n",
      " [53952     0     3]\n",
      " [54608     0     1]\n",
      " [55280     0     2]\n",
      " [55936     0     1]\n",
      " [56608     0     3]\n",
      " [57264     0     1]\n",
      " [57936     0     2]\n",
      " [58592     0     1]\n",
      " [59264     0     3]]\n",
      "(87, 961)\n",
      "(87,)\n",
      "[3 1 2 1 2 1 3 1 2 1 3 1 3 1 2 1 2 1 3 1 3 1 2 1 2 1 3 1 3 2 1 3 1 3 1 2 1\n",
      " 3 1 2 1 2 1 3 1 3 1 2 1 2 1 3 1 3 1 2 1 3 3 1 2 1 3 1 2 1 2 1 3 1 2 1 3 1\n",
      " 2 1 3 1 3 1 2 1 3 1 2 1 3]\n",
      "(45, 961)\n",
      "(45,)\n",
      "[3 2 2 3 2 3 3 2 2 3 3 2 2 3 3 2 3 3 2 3 2 2 3 3 2 2 3 3 2 3 3 2 3 2 2 3 2\n",
      " 3 2 3 3 2 3 2 3]\n"
     ]
    }
   ],
   "source": [
    "# Extract Data and Labels\n",
    "EEG_data=epochs._data #(events, channels, samples)\n",
    "Labels=epochs.events # (onset, value before event, event id)\n",
    "print(np.shape(EEG_data))\n",
    "print(np.shape(Labels))\n",
    "print(Labels)\n",
    "# Change Dimension of Data for ML Algorithm\n",
    "X_all=np.mean(EEG_data,axis=1)\n",
    "Y_all=Labels[:,2]\n",
    "X_all=sp.stats.zscore(X_all,axis=1)\n",
    "print(np.shape(X_all))\n",
    "print(np.shape(Y_all))\n",
    "print(Y_all)\n",
    "# Remove Label 1 as it corresponds to resting state\n",
    "idx=np.where(Y_all!=1)\n",
    "X=X_all[idx]\n",
    "Y=Y_all[idx]\n",
    "print(np.shape(X))\n",
    "print(np.shape(Y))\n",
    "print(Y)"
   ]
  },
  {
   "cell_type": "markdown",
   "metadata": {},
   "source": [
    "## Training the Model"
   ]
  },
  {
   "cell_type": "code",
   "execution_count": 3,
   "metadata": {},
   "outputs": [
    {
     "name": "stdout",
     "output_type": "stream",
     "text": [
      "Predictions for samples in Y:\n",
      " [3 2 2 3 2 3 3 2 2 3 3 2 2 3 3 2 3 3 2 3 2 2 3 3 2 2 3 3 2 3 3 2 3 2 2 3 2\n",
      " 3 2 3 3 2 3 2 3]\n",
      "Accuracy: 1.0\n"
     ]
    }
   ],
   "source": [
    "from sklearn.linear_model import LogisticRegression\n",
    "from sklearn.metrics import accuracy_score\n",
    "clf = LogisticRegression(solver='lbfgs')\n",
    "clf.fit(X, Y)\n",
    "preds = clf.predict(X)\n",
    "print(\"Predictions for samples in Y:\\n\", preds)\n",
    "probas = clf.predict_proba(X)\n",
    "acc = accuracy_score(Y, preds)\n",
    "print(\"Accuracy:\", acc)"
   ]
  },
  {
   "cell_type": "markdown",
   "metadata": {},
   "source": [
    "## Model Validation"
   ]
  },
  {
   "cell_type": "code",
   "execution_count": 6,
   "metadata": {},
   "outputs": [
    {
     "name": "stdout",
     "output_type": "stream",
     "text": [
      "Predictions for our test set samples:\n",
      " [2 2 3 2 3 2 3 3 3 3 2 2 2 3 3 2 2 2 3 3 2 2]\n",
      "Accuracy: 0.8181818181818182\n"
     ]
    }
   ],
   "source": [
    "# The code X[0::2, :] is a slice notation that returns a new array that is a copy of the original array, but with only every other row included.\n",
    "# The first number in the slice notation, 0, is the start index, and the second number, 2, is the step size\n",
    "X_train = X[0::2, :] # all even samples\n",
    "Y_train = Y[0::2]\n",
    "X_test = X[1::2, :] # all odd samples\n",
    "Y_test = Y[1::2]\n",
    "X_train_norm = sp.stats.zscore(X_train,axis=1)\n",
    "clf.fit(X_train_norm, Y_train)\n",
    "X_test_norm = sp.stats.zscore(X_test,axis=1)\n",
    "preds = clf.predict(X_test_norm)\n",
    "print(\"Predictions for our test set samples:\\n\", preds)\n",
    "acc = accuracy_score(Y_test, preds)\n",
    "print(\"Accuracy:\", acc)"
   ]
  },
  {
   "cell_type": "markdown",
   "metadata": {},
   "source": [
    "## Model Validation Continued"
   ]
  },
  {
   "cell_type": "code",
   "execution_count": 8,
   "metadata": {},
   "outputs": [
    {
     "name": "stdout",
     "output_type": "stream",
     "text": [
      "Processing fold 1\n",
      "Train indices: [ 8 10 11 12 13 14 15 16 17 18 19 20 21 22 23 24 25 26 27 28 29 30 31 32\n",
      " 33 34 35 36 37 38 39 40 41 42 43 44]\n",
      "Test indices: [0 1 2 3 4 5 6 7 9]\n",
      "\n",
      "Processing fold 2\n",
      "Train indices: [ 0  1  2  3  4  5  6  7  9 18 19 20 21 22 23 24 25 26 27 28 29 30 31 32\n",
      " 33 34 35 36 37 38 39 40 41 42 43 44]\n",
      "Test indices: [ 8 10 11 12 13 14 15 16 17]\n",
      "\n",
      "Processing fold 3\n",
      "Train indices: [ 0  1  2  3  4  5  6  7  8  9 10 11 12 13 14 15 16 17 25 28 29 30 31 32\n",
      " 33 34 35 36 37 38 39 40 41 42 43 44]\n",
      "Test indices: [18 19 20 21 22 23 24 26 27]\n",
      "\n",
      "Processing fold 4\n",
      "Train indices: [ 0  1  2  3  4  5  6  7  8  9 10 11 12 13 14 15 16 17 18 19 20 21 22 23\n",
      " 24 26 27 34 36 38 39 40 41 42 43 44]\n",
      "Test indices: [25 28 29 30 31 32 33 35 37]\n",
      "\n",
      "Processing fold 5\n",
      "Train indices: [ 0  1  2  3  4  5  6  7  8  9 10 11 12 13 14 15 16 17 18 19 20 21 22 23\n",
      " 24 25 26 27 28 29 30 31 32 33 35 37]\n",
      "Test indices: [34 36 38 39 40 41 42 43 44]\n",
      "\n",
      "Accuracy Vector:[0.8888888888888888, 0.7777777777777778, 0.5555555555555556, 0.6666666666666666, 0.6666666666666666]\n",
      "Average Accuracy:0.711111111111111\n"
     ]
    }
   ],
   "source": [
    "from sklearn.model_selection import StratifiedKFold\n",
    "from sklearn.preprocessing import StandardScaler\n",
    "scaler = StandardScaler()\n",
    "skf = StratifiedKFold(n_splits=5)\n",
    "folds = skf.split(X, Y)\n",
    "train_idxs=[]\n",
    "test_idxs=[]\n",
    "acc_cv=[]\n",
    "for i, fold in enumerate(folds):\n",
    "    print(\"Processing fold %i\" % (i + 1))\n",
    "    # Here, we unpack fold (a tuple) to get the train and test indices\n",
    "    train_idx, test_idx = fold\n",
    "    train_idxs.append(train_idx)\n",
    "    test_idxs.append(test_idx)\n",
    "    print(\"Train indices:\", train_idx)\n",
    "    print(\"Test indices:\", test_idx, end='\\n\\n')\n",
    "acc_cv=[]\n",
    "for i in range(5):\n",
    "    X_train = X[train_idxs[i][:]]\n",
    "    Y_train = Y[train_idxs[i][:]]\n",
    "    X_test = X[test_idxs[i][:]]\n",
    "    Y_test = Y[test_idxs[i][:]]\n",
    "    X_train_norm = scaler.fit_transform(X_train)\n",
    "    X_test_norm = scaler.transform(X_test)\n",
    "    clf.fit(X_train_norm, Y_train)\n",
    "    preds = clf.predict(X_test_norm)\n",
    "    acc_cv.append(accuracy_score(Y_test, preds))\n",
    "print(\"Accuracy Vector:\" + str(acc_cv))\n",
    "print(\"Average Accuracy:\"+ str(np.mean(acc_cv)))"
   ]
  },
  {
   "cell_type": "markdown",
   "metadata": {},
   "source": [
    "## Model Diagnosis"
   ]
  },
  {
   "cell_type": "code",
   "execution_count": 9,
   "metadata": {},
   "outputs": [
    {
     "data": {
      "text/plain": [
       "(array([21.,  0.,  0.,  0.,  0.,  0.,  0.,  0.,  0., 24.]),\n",
       " array([2. , 2.1, 2.2, 2.3, 2.4, 2.5, 2.6, 2.7, 2.8, 2.9, 3. ]),\n",
       " <BarContainer object of 10 artists>)"
      ]
     },
     "execution_count": 9,
     "metadata": {},
     "output_type": "execute_result"
    },
    {
     "data": {
      "image/png": "[encoded data removed]",
      "text/plain": [
       "<Figure size 640x480 with 1 Axes>"
      ]
     },
     "metadata": {},
     "output_type": "display_data"
    }
   ],
   "source": [
    "plt.hist(Y)"
   ]
  },
  {
   "cell_type": "markdown",
   "metadata": {},
   "source": [
    "## Model Validation with ROC"
   ]
  },
  {
   "cell_type": "code",
   "execution_count": 10,
   "metadata": {},
   "outputs": [
    {
     "name": "stdout",
     "output_type": "stream",
     "text": [
      "Processing fold 1\n",
      "Train indices: [ 8 10 11 12 13 14 15 16 17 18 19 20 21 22 23 24 25 26 27 28 29 30 31 32\n",
      " 33 34 35 36 37 38 39 40 41 42 43 44]\n",
      "Test indices: [0 1 2 3 4 5 6 7 9]\n",
      "\n",
      "Processing fold 2\n",
      "Train indices: [ 0  1  2  3  4  5  6  7  9 18 19 20 21 22 23 24 25 26 27 28 29 30 31 32\n",
      " 33 34 35 36 37 38 39 40 41 42 43 44]\n",
      "Test indices: [ 8 10 11 12 13 14 15 16 17]\n",
      "\n",
      "Processing fold 3\n",
      "Train indices: [ 0  1  2  3  4  5  6  7  8  9 10 11 12 13 14 15 16 17 25 28 29 30 31 32\n",
      " 33 34 35 36 37 38 39 40 41 42 43 44]\n",
      "Test indices: [18 19 20 21 22 23 24 26 27]\n",
      "\n",
      "Processing fold 4\n",
      "Train indices: [ 0  1  2  3  4  5  6  7  8  9 10 11 12 13 14 15 16 17 18 19 20 21 22 23\n",
      " 24 26 27 34 36 38 39 40 41 42 43 44]\n",
      "Test indices: [25 28 29 30 31 32 33 35 37]\n",
      "\n",
      "Processing fold 5\n",
      "Train indices: [ 0  1  2  3  4  5  6  7  8  9 10 11 12 13 14 15 16 17 18 19 20 21 22 23\n",
      " 24 25 26 27 28 29 30 31 32 33 35 37]\n",
      "Test indices: [34 36 38 39 40 41 42 43 44]\n",
      "\n",
      "Accuracy Vector:[0.875, 0.775, 0.55, 0.7, 0.7]\n",
      "Average Accuracy:0.7200000000000001\n"
     ]
    }
   ],
   "source": [
    "from sklearn.metrics import roc_auc_score\n",
    "from sklearn.model_selection import StratifiedKFold\n",
    "from sklearn.preprocessing import StandardScaler\n",
    "scaler = StandardScaler()\n",
    "skf = StratifiedKFold(n_splits=5)\n",
    "folds = skf.split(X, Y)\n",
    "train_idxs=[]\n",
    "test_idxs=[]\n",
    "auc_cv=[]\n",
    "for i, fold in enumerate(folds):\n",
    "    print(\"Processing fold %i\" % (i + 1))\n",
    "    train_idx, test_idx = fold\n",
    "    train_idxs.append(train_idx)\n",
    "    test_idxs.append(test_idx)\n",
    "    print(\"Train indices:\", train_idx)\n",
    "    print(\"Test indices:\", test_idx, end='\\n\\n')\n",
    "acc_cv=[]\n",
    "for i in range(5):\n",
    "    X_train = X[train_idxs[i][:]] # all even samples\n",
    "    Y_train = Y[train_idxs[i][:]]\n",
    "    X_test = X[test_idxs[i][:]] # all odd samples\n",
    "    Y_test = Y[test_idxs[i][:]]\n",
    "    X_train_norm = scaler.fit_transform(X_train)\n",
    "    X_test_norm = scaler.transform(X_test)\n",
    "    clf.fit(X_train_norm, Y_train)\n",
    "    preds = clf.predict(X_test_norm)\n",
    "    auc_cv.append(roc_auc_score(Y_test, preds))\n",
    "print(\"Accuracy Vector:\" + str(auc_cv))\n",
    "print(\"Average Accuracy:\"+ str(np.mean(auc_cv)))"
   ]
  },
  {
   "cell_type": "markdown",
   "metadata": {},
   "source": [
    "Model is not aware that there is a class imbalance, this needs to change. ^ \n",
    "\n",
    "## Model Diagnosis with ROC"
   ]
  },
  {
   "cell_type": "code",
   "execution_count": 11,
   "metadata": {},
   "outputs": [
    {
     "name": "stdout",
     "output_type": "stream",
     "text": [
      "Processing fold 1\n",
      "Train indices: [ 8 10 11 12 13 14 15 16 17 18 19 20 21 22 23 24 25 26 27 28 29 30 31 32\n",
      " 33 34 35 36 37 38 39 40 41 42 43 44]\n",
      "Test indices: [0 1 2 3 4 5 6 7 9]\n",
      "\n",
      "Processing fold 2\n",
      "Train indices: [ 0  1  2  3  4  5  6  7  9 18 19 20 21 22 23 24 25 26 27 28 29 30 31 32\n",
      " 33 34 35 36 37 38 39 40 41 42 43 44]\n",
      "Test indices: [ 8 10 11 12 13 14 15 16 17]\n",
      "\n",
      "Processing fold 3\n",
      "Train indices: [ 0  1  2  3  4  5  6  7  8  9 10 11 12 13 14 15 16 17 25 28 29 30 31 32\n",
      " 33 34 35 36 37 38 39 40 41 42 43 44]\n",
      "Test indices: [18 19 20 21 22 23 24 26 27]\n",
      "\n",
      "Processing fold 4\n",
      "Train indices: [ 0  1  2  3  4  5  6  7  8  9 10 11 12 13 14 15 16 17 18 19 20 21 22 23\n",
      " 24 26 27 34 36 38 39 40 41 42 43 44]\n",
      "Test indices: [25 28 29 30 31 32 33 35 37]\n",
      "\n",
      "Processing fold 5\n",
      "Train indices: [ 0  1  2  3  4  5  6  7  8  9 10 11 12 13 14 15 16 17 18 19 20 21 22 23\n",
      " 24 25 26 27 28 29 30 31 32 33 35 37]\n",
      "Test indices: [34 36 38 39 40 41 42 43 44]\n",
      "\n",
      "Accuracy Vector:[0.875, 0.775, 0.55, 0.7, 0.7]\n",
      "Average Accuracy:0.7200000000000001\n"
     ]
    }
   ],
   "source": [
    "clf = LogisticRegression(solver='lbfgs', class_weight='balanced')\n",
    "from sklearn.metrics import roc_auc_score\n",
    "from sklearn.model_selection import StratifiedKFold\n",
    "from sklearn.preprocessing import StandardScaler\n",
    "scaler = StandardScaler()\n",
    "skf = StratifiedKFold(n_splits=5)\n",
    "folds = skf.split(X, Y)\n",
    "train_idxs=[]\n",
    "test_idxs=[]\n",
    "auc_cv=[]\n",
    "for i, fold in enumerate(folds):\n",
    "    print(\"Processing fold %i\" % (i + 1))\n",
    "    train_idx, test_idx = fold\n",
    "    train_idxs.append(train_idx)\n",
    "    test_idxs.append(test_idx)\n",
    "    print(\"Train indices:\", train_idx)\n",
    "    print(\"Test indices:\", test_idx, end='\\n\\n')\n",
    "acc_cv=[]\n",
    "for i in range(5):\n",
    "    X_train = X[train_idxs[i][:]] # all even samples\n",
    "    Y_train = Y[train_idxs[i][:]]\n",
    "    X_test = X[test_idxs[i][:]] # all odd samples\n",
    "    Y_test = Y[test_idxs[i][:]]\n",
    "    X_train_norm = scaler.fit_transform(X_train)\n",
    "    X_test_norm = scaler.transform(X_test)\n",
    "    clf.fit(X_train_norm, Y_train)\n",
    "    preds = clf.predict(X_test_norm)\n",
    "    auc_cv.append(roc_auc_score(Y_test, preds))\n",
    "print(\"Accuracy Vector:\" + str(auc_cv))\n",
    "print(\"Average Accuracy:\"+ str(np.mean(auc_cv)))"
   ]
  },
  {
   "cell_type": "markdown",
   "metadata": {},
   "source": [
    "Data was already balanced which is why the accuracy metric is not different. ^\n",
    "\n",
    "## Putting Everything Together"
   ]
  },
  {
   "cell_type": "code",
   "execution_count": 14,
   "metadata": {},
   "outputs": [
    {
     "name": "stdout",
     "output_type": "stream",
     "text": [
      "    Using multitaper spectrum estimation with 7 DPSS windows\n",
      "Accuracy Vector:[0.7777777777777778, 0.7777777777777778, 0.2222222222222222, 0.5555555555555556, 0.6666666666666666]\n",
      "Average Accuracy:0.5999999999999999\n"
     ]
    }
   ],
   "source": [
    "## Feature Extraction\n",
    "EEG_freq_data=epochs.compute_psd() #(events, channels, frequencies)\n",
    "X_all=np.mean(EEG_freq_data,axis=1)\n",
    "Y_all=Labels[:,2]\n",
    "X_all=sp.stats.zscore(X_all,axis=1)\n",
    "idx=np.where(Y_all!=1)\n",
    "X=X_all[idx]\n",
    "Y=Y_all[idx]\n",
    "## Feature Transformation\n",
    "from sklearn.decomposition import PCA\n",
    "pca = PCA(n_components=3)\n",
    "acc_cv=[]\n",
    "for i in range(5):\n",
    "    X_train = X[train_idxs[i][:]] # all even samples\n",
    "    Y_train = Y[train_idxs[i][:]]\n",
    "    X_test = X[test_idxs[i][:]] # all odd samples\n",
    "    Y_test = Y[test_idxs[i][:]]\n",
    "    X_train_norm = scaler.fit_transform(X_train)\n",
    "    X_test_norm = scaler.transform(X_test)\n",
    "    X_train_norm_PCA=pca.fit_transform(X_train_norm)\n",
    "    X_test_norm_PCA = pca.transform(X_test_norm)\n",
    "    #print(pca.explained_variance_)\n",
    "    clf.fit(X_train_norm_PCA, Y_train)\n",
    "    preds = clf.predict(X_test_norm_PCA)\n",
    "    acc_cv.append(accuracy_score(Y_test, preds))\n",
    "print(\"Accuracy Vector:\" + str(acc_cv))\n",
    "print(\"Average Accuracy:\"+ str(np.mean(acc_cv)))"
   ]
  },
  {
   "cell_type": "markdown",
   "metadata": {},
   "source": [
    "The feature extraction must be problem specific (you might need to extract sertain features) because otherwise the evaluation metric could be substantially worse as seen above."
   ]
  }
 ],
 "metadata": {
  "kernelspec": {
   "display_name": "Python 3",
   "language": "python",
   "name": "python3"
  },
  "language_info": {
   "codemirror_mode": {
    "name": "ipython",
    "version": 3
   },
   "file_extension": ".py",
   "mimetype": "text/x-python",
   "name": "python",
   "nbconvert_exporter": "python",
   "pygments_lexer": "ipython3",
   "version": "3.10.12"
  }
 },
 "nbformat": 4,
 "nbformat_minor": 2
}
