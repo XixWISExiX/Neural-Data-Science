{
 "cells": [
  {
   "cell_type": "markdown",
   "metadata": {},
   "source": [
    "Associated with Lecture 19\n",
    "\n",
    "# General Linear Model\n",
    "\n",
    "## Inference"
   ]
  },
  {
   "cell_type": "code",
   "execution_count": 1,
   "metadata": {},
   "outputs": [],
   "source": [
    "import numpy as np\n",
    "import matplotlib.pyplot as plt\n",
    "# Generate Data\n",
    "np.random.seed(1)\n",
    "prespecified_covariance = np.array([[1, .8], [.8, 1]])\n",
    "data = np.random.multivariate_normal(mean=[3, 7],\n",
    "cov=prespecified_covariance, size=30)\n",
    "X = data[:, 0, np.newaxis]\n",
    "y = data[:, 1, np.newaxis]\n",
    "n_obs = y.size\n",
    "intercept = np.ones((n_obs, 1))\n",
    "tuple_with_arrays = (intercept, X)\n",
    "X_with_icept = np.hstack(tuple_with_arrays)"
   ]
  },
  {
   "cell_type": "code",
   "execution_count": 2,
   "metadata": {},
   "outputs": [
    {
     "name": "stdout",
     "output_type": "stream",
     "text": [
      "Model 1\n",
      "[[4.25897963]\n",
      " [0.88186203]]\n",
      "0.3837095525610668\n",
      "Model 2\n",
      "[[425.89796253]\n",
      " [ 88.18620284]]\n",
      "3837.0955256106668\n"
     ]
    }
   ],
   "source": [
    "# Estimate two models one with the original data and one with rescaled data.\n",
    "from numpy.linalg import inv\n",
    "est_betas = inv(X_with_icept.T @ X_with_icept) @ X_with_icept.T @ y\n",
    "y_hat = X_with_icept @ est_betas\n",
    "MSE = np.sum((y-y_hat)**2)/len(y)\n",
    "print('Model 1')\n",
    "print(est_betas)\n",
    "print(MSE)\n",
    "y_new=y*100\n",
    "est_betas_new = inv(X_with_icept.T @ X_with_icept) @ X_with_icept.T @ y_new\n",
    "y_hat_new = X_with_icept @ est_betas_new\n",
    "MSE_new = np.sum((y_new-y_hat_new)**2)/len(y_new)\n",
    "print('Model 2')\n",
    "print(est_betas_new)\n",
    "print(MSE_new)"
   ]
  },
  {
   "cell_type": "markdown",
   "metadata": {},
   "source": [
    "## T-Values"
   ]
  },
  {
   "cell_type": "code",
   "execution_count": 3,
   "metadata": {},
   "outputs": [
    {
     "name": "stdout",
     "output_type": "stream",
     "text": [
      "Design variance of weight predictor is: 0.055552 \n"
     ]
    }
   ],
   "source": [
    "# Calculate the t-statistics for your previous model.\n",
    "# Calculate the design-variance\n",
    "def design_variance(X, which_predictor=1):\n",
    "    is_single = isinstance(which_predictor, int)\n",
    "    if is_single:\n",
    "        idx = which_predictor\n",
    "    else:\n",
    "        idx = np.array(which_predictor) != 0\n",
    "    c = np.zeros(X.shape[1])\n",
    "    c[idx] = 1 if is_single == 1 else which_predictor[idx]\n",
    "    des_var = c.dot(np.linalg.inv(X.T.dot(X))).dot(c.T)\n",
    "    return des_var\n",
    "design_variance_X = design_variance(X_with_icept, which_predictor=1)\n",
    "print(\"Design variance of weight predictor is: %.6f \" % design_variance_X)"
   ]
  },
  {
   "cell_type": "code",
   "execution_count": 4,
   "metadata": {},
   "outputs": [
    {
     "name": "stdout",
     "output_type": "stream",
     "text": [
      "Degrees of freedom: 28\n",
      "Sigma-hat (noise) is: 4111.174\n",
      "The t-value for the weight-parameter (beta = 88.186) is: 5.835\n"
     ]
    },
    {
     "name": "stderr",
     "output_type": "stream",
     "text": [
      "/tmp/ipykernel_124690/443503898.py:10: DeprecationWarning: Conversion of an array with ndim > 0 to a scalar is deprecated, and will error in future. Ensure you extract a single element from your array before performing this operation. (Deprecated NumPy 1.25.)\n",
      "  print(\"The t-value for the weight-parameter (beta = %.3f) is: %.3f\" % (est_betas_new[1], t_val_new))\n"
     ]
    }
   ],
   "source": [
    "# Calculate the noise term\n",
    "N = y_new.size\n",
    "P = X_with_icept.shape[1]\n",
    "df = (N - P)\n",
    "print(\"Degrees of freedom: %i\" % df)\n",
    "sigma_hat_new = np.sum((y_new - y_hat_new) ** 2) / df\n",
    "print(\"Sigma-hat (noise) is: %.3f\" % sigma_hat_new)\n",
    "# Calculate the t value\n",
    "t_val_new = est_betas_new[1] / np.sqrt(sigma_hat_new * design_variance_X)\n",
    "print(\"The t-value for the weight-parameter (beta = %.3f) is: %.3f\" % (est_betas_new[1], t_val_new))"
   ]
  },
  {
   "cell_type": "code",
   "execution_count": 5,
   "metadata": {},
   "outputs": [
    {
     "name": "stdout",
     "output_type": "stream",
     "text": [
      "Degrees of freedom: 28\n",
      "Sigma-hat (noise) is: 4111.174\n",
      "The t-value for the weight-parameter (beta = 88.186) is: 5.835\n"
     ]
    },
    {
     "name": "stderr",
     "output_type": "stream",
     "text": [
      "/tmp/ipykernel_124690/443503898.py:10: DeprecationWarning: Conversion of an array with ndim > 0 to a scalar is deprecated, and will error in future. Ensure you extract a single element from your array before performing this operation. (Deprecated NumPy 1.25.)\n",
      "  print(\"The t-value for the weight-parameter (beta = %.3f) is: %.3f\" % (est_betas_new[1], t_val_new))\n"
     ]
    }
   ],
   "source": [
    "# Calculate the noise term\n",
    "N = y_new.size\n",
    "P = X_with_icept.shape[1]\n",
    "df = (N - P)\n",
    "print(\"Degrees of freedom: %i\" % df)\n",
    "sigma_hat_new = np.sum((y_new - y_hat_new) ** 2) / df\n",
    "print(\"Sigma-hat (noise) is: %.3f\" % sigma_hat_new)\n",
    "# Calculate the t value\n",
    "t_val_new = est_betas_new[1] / np.sqrt(sigma_hat_new * design_variance_X)\n",
    "print(\"The t-value for the weight-parameter (beta = %.3f) is: %.3f\" % (est_betas_new[1], t_val_new))"
   ]
  },
  {
   "cell_type": "markdown",
   "metadata": {},
   "source": [
    "## P-Values"
   ]
  },
  {
   "cell_type": "code",
   "execution_count": 6,
   "metadata": {},
   "outputs": [
    {
     "name": "stdout",
     "output_type": "stream",
     "text": [
      "The p-value corresponding to t(28) = 5.835 is: 0.00000285\n"
     ]
    },
    {
     "name": "stderr",
     "output_type": "stream",
     "text": [
      "/tmp/ipykernel_124690/638576202.py:4: DeprecationWarning: Conversion of an array with ndim > 0 to a scalar is deprecated, and will error in future. Ensure you extract a single element from your array before performing this operation. (Deprecated NumPy 1.25.)\n",
      "  print('The p-value corresponding to t(%i) = %.3f is: %.8f' % (df, t_val_new, p_value))\n"
     ]
    }
   ],
   "source": [
    "# Calculate the p value\n",
    "from scipy import stats\n",
    "p_value = stats.t.sf(np.abs(t_val_new), df) * 2\n",
    "print('The p-value corresponding to t(%i) = %.3f is: %.8f' % (df, t_val_new, p_value))"
   ]
  },
  {
   "cell_type": "markdown",
   "metadata": {},
   "source": [
    "Null Hypothesis is rejected"
   ]
  }
 ],
 "metadata": {
  "kernelspec": {
   "display_name": "Python 3",
   "language": "python",
   "name": "python3"
  },
  "language_info": {
   "codemirror_mode": {
    "name": "ipython",
    "version": 3
   },
   "file_extension": ".py",
   "mimetype": "text/x-python",
   "name": "python",
   "nbconvert_exporter": "python",
   "pygments_lexer": "ipython3",
   "version": "3.10.12"
  }
 },
 "nbformat": 4,
 "nbformat_minor": 2
}
