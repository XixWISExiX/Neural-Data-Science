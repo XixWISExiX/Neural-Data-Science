{
 "cells": [
  {
   "cell_type": "markdown",
   "metadata": {},
   "source": [
    "# Joshua Wiseman HW1 Question 6"
   ]
  },
  {
   "cell_type": "code",
   "execution_count": 1,
   "metadata": {},
   "outputs": [
    {
     "name": "stdout",
     "output_type": "stream",
     "text": [
      "3\n",
      "1\n",
      "21\n",
      "-4\n"
     ]
    }
   ],
   "source": [
    "# A\n",
    "def sum_two_numbers(a, b):\n",
    "    return a + b # return sum of a and b\n",
    "\n",
    "# A Tests\n",
    "print(sum_two_numbers(1,2))\n",
    "print(sum_two_numbers(-1,2))\n",
    "print(sum_two_numbers(10,11))\n",
    "print(sum_two_numbers(-2,-2))"
   ]
  },
  {
   "cell_type": "code",
   "execution_count": 2,
   "metadata": {},
   "outputs": [
    {
     "name": "stdout",
     "output_type": "stream",
     "text": [
      "00:00:01\n",
      "00:01:00\n",
      "01:01:00\n",
      "01:01:01\n"
     ]
    }
   ],
   "source": [
    "# B\n",
    "def seconds_to_hms_format(seconds):\n",
    "    hours = seconds // 3600 # find the hours through integer division\n",
    "    minutes = (seconds % 3600) // 60 # find mintues through remainder of hours and then divide that through integer division\n",
    "    seconds = seconds % 60 # the remainder of seconds\n",
    "    return f\"{int(hours):02}:{int(minutes):02}:{int(seconds):02}\" # output in the hh:mm:ss format\n",
    "\n",
    "# B Tests\n",
    "print(seconds_to_hms_format(1))\n",
    "print(seconds_to_hms_format(60))\n",
    "print(seconds_to_hms_format(3660))\n",
    "print(seconds_to_hms_format(3661))\n"
   ]
  },
  {
   "cell_type": "code",
   "execution_count": 3,
   "metadata": {},
   "outputs": [
    {
     "name": "stdout",
     "output_type": "stream",
     "text": [
      "Hlo\n",
      "Wrd\n",
      "BgDg\n"
     ]
    }
   ],
   "source": [
    "# C\n",
    "def print_even_index_from_string(string):\n",
    "    output = \"\" # create output variable\n",
    "    for i in range(len(string)): # loop throught the string\n",
    "        if i % 2 == 0: # find if the index is even\n",
    "            output+=string[i] # if so, append it to the output string\n",
    "    print(output) # After the loop print out the output\n",
    "\n",
    "# C Tests\n",
    "print_even_index_from_string(\"Hello\")\n",
    "print_even_index_from_string(\"World\")\n",
    "print_even_index_from_string(\"Big Dog\")    "
   ]
  },
  {
   "cell_type": "code",
   "execution_count": 4,
   "metadata": {},
   "outputs": [
    {
     "name": "stdout",
     "output_type": "stream",
     "text": [
      "['a', 'ab', 'b', 'c']\n",
      "[1]\n",
      "[]\n"
     ]
    }
   ],
   "source": [
    "# D\n",
    "def remove_duplicates_from_list(arr):\n",
    "    output_arr = [] # create output_arr list\n",
    "    hash_set = set([]) # Use set for O(1) time operations, changes the remove duplicates from O(n^2) to O(n)\n",
    "    for element in arr: # loop through all variables in arr\n",
    "        if element not in hash_set: # if the element is not in the set\n",
    "            output_arr.append(element) # then add it to the output_arr\n",
    "            hash_set.add(element) # and the set too\n",
    "    return output_arr # return the output_arr\n",
    "\n",
    "# D Tests\n",
    "print(remove_duplicates_from_list([\"a\", \"a\", \"ab\", \"b\", \"c\", \"c\", \"c\"]))\n",
    "print(remove_duplicates_from_list([1]))\n",
    "print(remove_duplicates_from_list([]))"
   ]
  },
  {
   "cell_type": "code",
   "execution_count": 5,
   "metadata": {},
   "outputs": [
    {
     "name": "stdout",
     "output_type": "stream",
     "text": [
      "0\n",
      "1\n",
      "8\n",
      "233\n",
      "9227465\n"
     ]
    }
   ],
   "source": [
    "# E\n",
    "def fibonacci(n):\n",
    "    fib = [0] * (n+3) # init the fib array which will hold fibanacci numbers in a dynamic programming changing the function from O(2^n) to O(n)\n",
    "    fib[0] = 0 # init fib(0)\n",
    "    fib[1] = 1 # init fib(1)\n",
    "    fib[2] = 1 # init fib(2)\n",
    "    for i in range(3,n+1): # loop to the given number n (inclusive) from 3 (because 0 to 2 is calculated)\n",
    "        fib[i] = fib[i-1] + fib[i-2] # Through the previously calculated values add this to the current value\n",
    "    return fib[n] # return the nth number of the fibanacci sequence\n",
    "\n",
    "# E Tests\n",
    "print(fibonacci(0))\n",
    "print(fibonacci(1))\n",
    "print(fibonacci(6))\n",
    "print(fibonacci(13))\n",
    "print(fibonacci(35))"
   ]
  },
  {
   "cell_type": "markdown",
   "metadata": {},
   "source": [
    "## The following code was for assertion testing in a python file and would also read in user input.\n",
    "## This doesn't work in a Jupiter Notebook"
   ]
  },
  {
   "cell_type": "code",
   "execution_count": 7,
   "metadata": {},
   "outputs": [
    {
     "name": "stdout",
     "output_type": "stream",
     "text": [
      "Hlo\n",
      "Wrd\n",
      "BgDg\n",
      "\n"
     ]
    }
   ],
   "source": [
    "# Assertion Tests\n",
    "if __name__ == '__main__':\n",
    "    # A Tests\n",
    "    assert sum_two_numbers(1,2) == 3, \"Test A1 Failed\"\n",
    "    assert sum_two_numbers(-1,2) == 1, \"Test A2 Failed\"\n",
    "    assert sum_two_numbers(10,11) == 21, \"Test A3 Failed\"\n",
    "    assert sum_two_numbers(-2,-2) == -4, \"Test A4 Failed\"\n",
    "\n",
    "    # B Tests\n",
    "    assert seconds_to_hms_format(1) == \"00:00:01\", \"Test B1 Failed\"\n",
    "    assert seconds_to_hms_format(60) == \"00:01:00\", \"Test B2 Failed\"\n",
    "    assert seconds_to_hms_format(3660) == \"01:01:00\", \"Test B3 Failed\"\n",
    "    assert seconds_to_hms_format(3661) == \"01:01:01\", \"Test B4 Failed\"\n",
    "\n",
    "    # C Tests\n",
    "    print_even_index_from_string(\"Hello\")\n",
    "    print_even_index_from_string(\"World\")\n",
    "    print_even_index_from_string(\"Big Dog\")    \n",
    "    print()\n",
    "\n",
    "    # D Tests\n",
    "    assert remove_duplicates_from_list([\"a\", \"a\", \"ab\", \"b\", \"c\", \"c\", \"c\"]) == [\"a\", \"ab\", \"b\", \"c\"], \"Test D1 Failed\"\n",
    "    assert remove_duplicates_from_list([1]) == [1], \"Test D2 Failed\"\n",
    "    assert remove_duplicates_from_list([]) == [], \"Test D3 Failed\"\n",
    "\n",
    "    # E Tests\n",
    "    assert fibonacci(0) == 0, \"Test E1 Failed\"\n",
    "    assert fibonacci(1) == 1, \"Test E2 Failed\"\n",
    "    assert fibonacci(6) == 8, \"Test E3 Failed\"\n",
    "    assert fibonacci(13) == 233, \"Test E4 Failed\"\n",
    "    assert fibonacci(35) == 9227465, \"Test E5 Failed\"\n",
    "\n",
    "\n",
    "\n",
    "    # Get User input and enter them into the previously tested functions\n",
    "\n",
    "    # # Input for A\n",
    "    # user_input = input(\"Problem A)   Enter in 2 numbers (space between each number)\\n\")\n",
    "    # n1, n2 = user_input.split()\n",
    "    # n1 = int(n1)\n",
    "    # n2 = int(n2)\n",
    "    # print(f\"The sum of {n1} and {n2} numbers is\", sum_two_numbers(n1, n2),'\\n')\n",
    "\n",
    "    # # Input for B\n",
    "    # user_input = input(\"Problem B)   Enter in number of seconds\\n\")\n",
    "    # seconds = int(user_input)\n",
    "    # print(f\"The hh:mm:ss format of {seconds} is\", seconds_to_hms_format(seconds),'\\n')\n",
    "\n",
    "    # # Input for C\n",
    "    # user_input = input(\"Problem C)   Enter in a string\\n\")\n",
    "    # print_even_index_from_string(user_input)\n",
    "    # print()\n",
    "    \n",
    "    # # Input for D\n",
    "    # user_input = input(\"Problem D)   Enter in a list (each value separated by a space)\\n\")\n",
    "    # arr = [x for x in user_input.split(\" \")]\n",
    "    # print(f\"List content after duplicate removal from {arr} is\", remove_duplicates_from_list(arr),'\\n')\n",
    "\n",
    "    # # Input for E\n",
    "    # user_input = input(\"Problem E)   Enter in a number for fibonacci\\n\")\n",
    "    # fib_num = int(user_input)\n",
    "    # print(f\"Fibonacci sequence for {fib_num} is\", fibonacci(fib_num))"
   ]
  }
 ],
 "metadata": {
  "kernelspec": {
   "display_name": "Python 3",
   "language": "python",
   "name": "python3"
  },
  "language_info": {
   "codemirror_mode": {
    "name": "ipython",
    "version": 3
   },
   "file_extension": ".py",
   "mimetype": "text/x-python",
   "name": "python",
   "nbconvert_exporter": "python",
   "pygments_lexer": "ipython3",
   "version": "3.10.11"
  }
 },
 "nbformat": 4,
 "nbformat_minor": 2
}
