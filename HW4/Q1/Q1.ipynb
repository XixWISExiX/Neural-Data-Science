{
 "cells": [
  {
   "cell_type": "markdown",
   "metadata": {},
   "source": [
    "# Q1)\n",
    "Import the nifti file and extract the fMRI parameters (such as voxel size, measurement unit, TE, and TR) from the header. Discuss what each parameter represents.\n",
    "\n",
    "Hint: check the .json file to make sure you extracted the correct parameters from the header file."
   ]
  },
  {
   "cell_type": "code",
   "execution_count": null,
   "metadata": {},
   "outputs": [
    {
     "name": "stdout",
     "output_type": "stream",
     "text": [
      "<class 'nibabel.nifti1.Nifti1Image'>\n",
      "(64, 64, 35, 120)\n"
     ]
    }
   ],
   "source": [
    "# Import the requred Packages\n",
    "import os\n",
    "import numpy as np\n",
    "import matplotlib.pyplot as plt\n",
    "%matplotlib inline\n",
    "import nibabel as nib\n",
    "\n",
    "fmri_file = '../../datasets/fMRI/HW4/sub-001_ses-001_task-eoec_bold.nii.gz' # Get the nifti file\n",
    "img = nib.load(fmri_file) # Load in the nifti file\n",
    "print(type(img)) # Print the type of the img variable (should be nifti)\n",
    "print(img.shape) # Print the dimensions of the object"
   ]
  },
  {
   "cell_type": "markdown",
   "metadata": {},
   "source": [
    "From above we can tell that the voxel dimensions are 64x64x35 with 120 different time units."
   ]
  },
  {
   "cell_type": "code",
   "execution_count": 2,
   "metadata": {},
   "outputs": [
    {
     "name": "stdout",
     "output_type": "stream",
     "text": [
      "<class 'nibabel.nifti1.Nifti1Header'> object, endian='<'\n",
      "sizeof_hdr      : 348\n",
      "data_type       : b''\n",
      "db_name         : b''\n",
      "extents         : 0\n",
      "session_error   : 0\n",
      "regular         : b'r'\n",
      "dim_info        : 57\n",
      "dim             : [  4  64  64  35 120   1   1   1]\n",
      "intent_p1       : 0.0\n",
      "intent_p2       : 0.0\n",
      "intent_p3       : 0.0\n",
      "intent_code     : none\n",
      "datatype        : int16\n",
      "bitpix          : 16\n",
      "slice_start     : 0\n",
      "pixdim          : [-1.  4.  4.  4.  2.  0.  0.  0.]\n",
      "vox_offset      : 0.0\n",
      "scl_slope       : nan\n",
      "scl_inter       : nan\n",
      "slice_end       : 0\n",
      "slice_code      : unknown\n",
      "xyzt_units      : 10\n",
      "cal_max         : 0.0\n",
      "cal_min         : 0.0\n",
      "slice_duration  : 0.0\n",
      "toffset         : 0.0\n",
      "glmax           : 0\n",
      "glmin           : 0\n",
      "descrip         : b'TE=40;Time=185950.000'\n",
      "aux_file        : b''\n",
      "qform_code      : scanner\n",
      "sform_code      : scanner\n",
      "quatern_b       : 0.0\n",
      "quatern_c       : 1.0\n",
      "quatern_d       : 0.0\n",
      "qoffset_x       : 126.781\n",
      "qoffset_y       : -94.604996\n",
      "qoffset_z       : -43.3223\n",
      "srow_x          : [ -4.      0.     -0.    126.781]\n",
      "srow_y          : [ -0.         4.        -0.       -94.604996]\n",
      "srow_z          : [  0.       0.       4.     -43.3223]\n",
      "intent_name     : b''\n",
      "magic           : b'n+1'\n",
      "\n",
      "---\n",
      "\n",
      "(4.0, 4.0, 4.0, 2.0)\n",
      "('mm', 'sec')\n",
      "<class 'nibabel.nifti1.Nifti1Header'> object, endian='<'\n",
      "sizeof_hdr      : 348\n",
      "data_type       : b''\n",
      "db_name         : b''\n",
      "extents         : 0\n",
      "session_error   : 0\n",
      "regular         : b'r'\n",
      "dim_info        : 57\n",
      "dim             : [  4  64  64  35 120   1   1   1]\n",
      "intent_p1       : 0.0\n",
      "intent_p2       : 0.0\n",
      "intent_p3       : 0.0\n",
      "intent_code     : none\n",
      "datatype        : int16\n",
      "bitpix          : 16\n",
      "slice_start     : 0\n",
      "pixdim          : [-1.  4.  4.  4.  2.  0.  0.  0.]\n",
      "vox_offset      : 0.0\n",
      "scl_slope       : nan\n",
      "scl_inter       : nan\n",
      "slice_end       : 0\n",
      "slice_code      : unknown\n",
      "xyzt_units      : 10\n",
      "cal_max         : 0.0\n",
      "cal_min         : 0.0\n",
      "slice_duration  : 0.0\n",
      "toffset         : 0.0\n",
      "glmax           : 0\n",
      "glmin           : 0\n",
      "descrip         : b'TE=40;Time=185950.000'\n",
      "aux_file        : b''\n",
      "qform_code      : scanner\n",
      "sform_code      : scanner\n",
      "quatern_b       : 0.0\n",
      "quatern_c       : 1.0\n",
      "quatern_d       : 0.0\n",
      "qoffset_x       : 126.781\n",
      "qoffset_y       : -94.604996\n",
      "qoffset_z       : -43.3223\n",
      "srow_x          : [ -4.      0.     -0.    126.781]\n",
      "srow_y          : [ -0.         4.        -0.       -94.604996]\n",
      "srow_z          : [  0.       0.       4.     -43.3223]\n",
      "intent_name     : b''\n",
      "magic           : b'n+1'\n"
     ]
    }
   ],
   "source": [
    "# Extract the voxel size from MRI data.\n",
    "hdr = img.header # Extract header information\n",
    "print(hdr) # Print all header information\n",
    "print('\\n---\\n') # text separator\n",
    "print(hdr.get_zooms()) # Print header dimension values\n",
    "print(hdr.get_xyzt_units()) # Print header dimension units (mm for example)\n",
    "print(hdr)"
   ]
  },
  {
   "cell_type": "markdown",
   "metadata": {},
   "source": [
    "The dimensions of each voxel or the voxel size is (4mmx4mmx4mm) or 4mm^3 which means for every voxel in the dimensional space given (in this case being 64x64x35) is 4mm long in each of the 3 dimensions. And the time value is 2 seconds meaning for each value in the time given (in this case being 120) is 2 seconds long which becomes 240 seconds in total.\n",
    "\n",
    "The Measurement units as previously mentioned where millimeters (mm) for the (x,y,z) component or voxels and seconds (sec) for the time component.\n",
    "\n",
    "The Echo Time (TE, time between the delivery of the radiofrequency pulse) is 40 milliseconds (ms). We get that number by seeing the TE=40 in which TE is usually given in milliseconds. This is further varified by the json file giving a TE of 0.04 of which is in seconds and to convert seconds into milliseconds, 0.04s * 1000 = 40ms.\n",
    "\n",
    "The Repetition Time (TR, the time between successive excitation pulses) is 2 seconds and is our time component which was discussed earlier inside the \"get_zooms\" method."
   ]
  }
 ],
 "metadata": {
  "kernelspec": {
   "display_name": "Python 3",
   "language": "python",
   "name": "python3"
  },
  "language_info": {
   "codemirror_mode": {
    "name": "ipython",
    "version": 3
   },
   "file_extension": ".py",
   "mimetype": "text/x-python",
   "name": "python",
   "nbconvert_exporter": "python",
   "pygments_lexer": "ipython3",
   "version": "3.10.12"
  }
 },
 "nbformat": 4,
 "nbformat_minor": 2
}
